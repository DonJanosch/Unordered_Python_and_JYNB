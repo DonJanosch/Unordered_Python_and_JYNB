{
 "cells": [
  {
   "cell_type": "markdown",
   "metadata": {},
   "source": [
    "# Generate a Classification-Network for the MNIST-Dataset. This model will run in parallel with our GAN and predict the classes of our GAN-samples... that will be fun :-)"
   ]
  },
  {
   "cell_type": "code",
   "execution_count": 1,
   "metadata": {},
   "outputs": [],
   "source": [
    "import tensorflow as tf\n",
    "import numpy as np\n",
    "import matplotlib.pyplot as plt\n",
    "%matplotlib inline"
   ]
  },
  {
   "cell_type": "code",
   "execution_count": 2,
   "metadata": {},
   "outputs": [
    {
     "name": "stdout",
     "output_type": "stream",
     "text": [
      "Extracting ./MNIST_data/train-images-idx3-ubyte.gz\n",
      "Extracting ./MNIST_data/train-labels-idx1-ubyte.gz\n",
      "Extracting ./MNIST_data/t10k-images-idx3-ubyte.gz\n",
      "Extracting ./MNIST_data/t10k-labels-idx1-ubyte.gz\n"
     ]
    }
   ],
   "source": [
    "from tensorflow.examples.tutorials.mnist import input_data\n",
    "mnist = input_data.read_data_sets(\"./MNIST_data/\",one_hot=True)"
   ]
  },
  {
   "cell_type": "code",
   "execution_count": 3,
   "metadata": {},
   "outputs": [],
   "source": [
    "num_neurons = 100\n",
    "num_classes = 10\n",
    "save_path = './models/'"
   ]
  },
  {
   "cell_type": "code",
   "execution_count": 4,
   "metadata": {},
   "outputs": [],
   "source": [
    "images = tf.placeholder(tf.float32,[None,28*28])"
   ]
  },
  {
   "cell_type": "code",
   "execution_count": 5,
   "metadata": {},
   "outputs": [],
   "source": [
    "model = tf.contrib.keras.models.Sequential()"
   ]
  },
  {
   "cell_type": "code",
   "execution_count": 6,
   "metadata": {},
   "outputs": [],
   "source": [
    "DL = tf.contrib.keras.layers.Dense"
   ]
  },
  {
   "cell_type": "code",
   "execution_count": 7,
   "metadata": {},
   "outputs": [],
   "source": [
    "model.add(DL(num_neurons,input_dim=(28*28),activation=tf.nn.relu))\n",
    "model.add(DL(num_neurons,activation=tf.nn.relu))\n",
    "model.add(DL(num_neurons,activation=tf.nn.relu))\n",
    "model.add(DL(num_classes,activation=tf.nn.softmax))"
   ]
  },
  {
   "cell_type": "code",
   "execution_count": 8,
   "metadata": {},
   "outputs": [],
   "source": [
    "model.compile('Adam','categorical_crossentropy',['accuracy'])"
   ]
  },
  {
   "cell_type": "code",
   "execution_count": 10,
   "metadata": {},
   "outputs": [
    {
     "name": "stdout",
     "output_type": "stream",
     "text": [
      "Epoch 1/10\n",
      "55000/55000 [==============================] - 2s - loss: 0.0425 - acc: 0.9860     \n",
      "Epoch 2/10\n",
      "55000/55000 [==============================] - 2s - loss: 0.0374 - acc: 0.9873     \n",
      "Epoch 3/10\n",
      "55000/55000 [==============================] - 2s - loss: 0.0301 - acc: 0.9905     \n",
      "Epoch 4/10\n",
      "55000/55000 [==============================] - 2s - loss: 0.0258 - acc: 0.9915     \n",
      "Epoch 5/10\n",
      "55000/55000 [==============================] - 2s - loss: 0.0215 - acc: 0.9931     \n",
      "Epoch 6/10\n",
      "55000/55000 [==============================] - 2s - loss: 0.0182 - acc: 0.9941     \n",
      "Epoch 7/10\n",
      "55000/55000 [==============================] - 2s - loss: 0.0221 - acc: 0.9925     \n",
      "Epoch 8/10\n",
      "55000/55000 [==============================] - 2s - loss: 0.0179 - acc: 0.9943     \n",
      "Epoch 9/10\n",
      "55000/55000 [==============================] - 2s - loss: 0.0128 - acc: 0.9959     \n",
      "Epoch 10/10\n",
      "55000/55000 [==============================] - 2s - loss: 0.0142 - acc: 0.9953     \n"
     ]
    },
    {
     "data": {
      "text/plain": [
       "<tensorflow.contrib.keras.python.keras.callbacks.History at 0x12a2e208>"
      ]
     },
     "execution_count": 10,
     "metadata": {},
     "output_type": "execute_result"
    }
   ],
   "source": [
    "model.fit(mnist.train.images,mnist.train.labels,epochs=10,batch_size=100)"
   ]
  },
  {
   "cell_type": "code",
   "execution_count": 11,
   "metadata": {},
   "outputs": [],
   "source": [
    "with open(save_path+'keras_class_predictor.json','w') as f:\n",
    "    f.write(model.to_json())\n",
    "model.save_weights(save_path+'keras_weights.h5')"
   ]
  },
  {
   "cell_type": "code",
   "execution_count": 12,
   "metadata": {},
   "outputs": [],
   "source": [
    "pred = model.predict(mnist.test.images[0].reshape(1,784))"
   ]
  },
  {
   "cell_type": "code",
   "execution_count": 13,
   "metadata": {},
   "outputs": [
    {
     "data": {
      "text/plain": [
       "7"
      ]
     },
     "execution_count": 13,
     "metadata": {},
     "output_type": "execute_result"
    }
   ],
   "source": [
    "pred.argmax()"
   ]
  },
  {
   "cell_type": "code",
   "execution_count": 14,
   "metadata": {},
   "outputs": [
    {
     "data": {
      "text/plain": [
       "7"
      ]
     },
     "execution_count": 14,
     "metadata": {},
     "output_type": "execute_result"
    }
   ],
   "source": [
    "mnist.test.labels[0].argmax()"
   ]
  },
  {
   "cell_type": "code",
   "execution_count": 15,
   "metadata": {},
   "outputs": [
    {
     "data": {
      "text/plain": [
       "array([[  2.13430447e-08,   2.84582491e-08,   2.07615214e-09,\n",
       "          1.91443412e-08,   1.06568523e-08,   1.06798446e-12,\n",
       "          1.27320316e-11,   9.99998689e-01,   9.20452603e-10,\n",
       "          1.21978735e-06]], dtype=float32)"
      ]
     },
     "execution_count": 15,
     "metadata": {},
     "output_type": "execute_result"
    }
   ],
   "source": [
    "pred"
   ]
  },
  {
   "cell_type": "code",
   "execution_count": 16,
   "metadata": {},
   "outputs": [
    {
     "data": {
      "text/plain": [
       "array([[  2.13430447e-08,   2.84582491e-08,   2.07615214e-09,\n",
       "          1.91443412e-08,   1.06568523e-08,   1.06798446e-12,\n",
       "          1.27320316e-11,   9.99998689e-01,   9.20452603e-10,\n",
       "          1.21978735e-06]], dtype=float32)"
      ]
     },
     "execution_count": 16,
     "metadata": {},
     "output_type": "execute_result"
    }
   ],
   "source": [
    "pred"
   ]
  },
  {
   "cell_type": "code",
   "execution_count": 17,
   "metadata": {},
   "outputs": [
    {
     "data": {
      "text/plain": [
       "['0.0%',\n",
       " '0.0%',\n",
       " '0.0%',\n",
       " '0.0%',\n",
       " '0.0%',\n",
       " '0.0%',\n",
       " '0.0%',\n",
       " '99.99%',\n",
       " '0.0%',\n",
       " '0.0%']"
      ]
     },
     "execution_count": 17,
     "metadata": {},
     "output_type": "execute_result"
    }
   ],
   "source": [
    "[str(int(p*10000)/100)+\"%\" for p in list(pred[0])]"
   ]
  },
  {
   "cell_type": "code",
   "execution_count": 30,
   "metadata": {},
   "outputs": [
    {
     "name": "stdout",
     "output_type": "stream",
     "text": [
      "Echte Zahl 2\n",
      "Berechnete Zahl 2\n"
     ]
    },
    {
     "data": {
      "image/png": "[encoded data removed]",
      "text/plain": [
       "<matplotlib.figure.Figure at 0x1468cac8>"
      ]
     },
     "metadata": {},
     "output_type": "display_data"
    },
    {
     "name": "stdout",
     "output_type": "stream",
     "text": [
      "Echte Zahl 1\n",
      "Berechnete Zahl 1\n"
     ]
    },
    {
     "data": {
      "image/png": "[encoded data removed]",
      "text/plain": [
       "<matplotlib.figure.Figure at 0x1494e0f0>"
      ]
     },
     "metadata": {},
     "output_type": "display_data"
    },
    {
     "name": "stdout",
     "output_type": "stream",
     "text": [
      "Echte Zahl 0\n",
      "Berechnete Zahl 0\n"
     ]
    },
    {
     "data": {
      "image/png": "[encoded data removed]",
      "text/plain": [
       "<matplotlib.figure.Figure at 0x14b39160>"
      ]
     },
     "metadata": {},
     "output_type": "display_data"
    },
    {
     "name": "stdout",
     "output_type": "stream",
     "text": [
      "Echte Zahl 4\n",
      "Berechnete Zahl 4\n"
     ]
    },
    {
     "data": {
      "image/png": "[encoded data removed]",
      "text/plain": [
       "<matplotlib.figure.Figure at 0x14b87588>"
      ]
     },
     "metadata": {},
     "output_type": "display_data"
    },
    {
     "name": "stdout",
     "output_type": "stream",
     "text": [
      "Echte Zahl 1\n",
      "Berechnete Zahl 1\n"
     ]
    },
    {
     "data": {
      "image/png": "[encoded data removed]",
      "text/plain": [
       "<matplotlib.figure.Figure at 0x14b4efd0>"
      ]
     },
     "metadata": {},
     "output_type": "display_data"
    }
   ],
   "source": [
    "num_pictures = 5\n",
    "sp = np.random.randint(1,5000,1)[0]\n",
    "for di in range(num_pictures):\n",
    "    idx = sp+di\n",
    "    print('Echte Zahl {}'.format(mnist.test.labels[idx].argmax()))\n",
    "    print('Berechnete Zahl {}'.format(model.predict(mnist.test.images[idx].reshape(1,28*28)).argmax()))\n",
    "    plt.imshow(mnist.test.images[idx].reshape(28,28),cmap='Greys')\n",
    "    plt.show()"
   ]
  },
  {
   "cell_type": "code",
   "execution_count": null,
   "metadata": {},
   "outputs": [],
   "source": []
  }
 ],
 "metadata": {
  "kernelspec": {
   "display_name": "Python 3",
   "language": "python",
   "name": "python3"
  }
 },
 "nbformat": 4,
 "nbformat_minor": 2
}

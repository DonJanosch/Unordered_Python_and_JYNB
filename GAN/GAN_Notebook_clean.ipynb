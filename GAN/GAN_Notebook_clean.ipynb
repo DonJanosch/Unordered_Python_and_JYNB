{
 "cells": [
  {
   "cell_type": "markdown",
   "metadata": {},
   "source": [
    "## Import the necessary libraries"
   ]
  },
  {
   "cell_type": "code",
   "execution_count": 60,
   "metadata": {},
   "outputs": [],
   "source": [
    "import tensorflow as tf\n",
    "import numpy as np\n",
    "import matplotlib.pyplot as plt\n",
    "from tensorflow.examples.tutorials.mnist import input_data\n",
    "%matplotlib inline"
   ]
  },
  {
   "cell_type": "markdown",
   "metadata": {},
   "source": [
    "## Set hyper-parameters"
   ]
  },
  {
   "cell_type": "code",
   "execution_count": 61,
   "metadata": {},
   "outputs": [],
   "source": [
    "noise_dimension = 10\n",
    "training_epochs = 30\n",
    "batch_size = 32\n",
    "learning_rate = 0.001\n",
    "run_training = True"
   ]
  },
  {
   "cell_type": "markdown",
   "metadata": {},
   "source": [
    "## Read in the MNIST-Dataset and reset the default tf.graph (just in case ;-) )"
   ]
  },
  {
   "cell_type": "code",
   "execution_count": 62,
   "metadata": {},
   "outputs": [
    {
     "name": "stdout",
     "output_type": "stream",
     "text": [
      "Extracting ./MNIST_data/train-images-idx3-ubyte.gz\n",
      "Extracting ./MNIST_data/train-labels-idx1-ubyte.gz\n",
      "Extracting ./MNIST_data/t10k-images-idx3-ubyte.gz\n",
      "Extracting ./MNIST_data/t10k-labels-idx1-ubyte.gz\n"
     ]
    }
   ],
   "source": [
    "mnist = input_data.read_data_sets('./MNIST_data/',one_hot=True)\n",
    "tf.reset_default_graph()\n",
    "init = tf.global_variables_initializer()"
   ]
  },
  {
   "cell_type": "markdown",
   "metadata": {},
   "source": [
    "## Define helper-functions for convenient acces, using the tf.layers-API here"
   ]
  },
  {
   "cell_type": "code",
   "execution_count": 63,
   "metadata": {},
   "outputs": [],
   "source": [
    "def generator(z, reuse=None):\n",
    "    with tf.variable_scope('gen',reuse=reuse):\n",
    "        alpha = 0.01\n",
    "        hidden1 = tf.layers.dense(inputs=z,units=128)\n",
    "        hidden1 = tf.maximum(hidden1*alpha,hidden1)\n",
    "        hidden2 = tf.layers.dense(hidden1,units=128)\n",
    "        hidden2 = tf.maximum(hidden2*alpha,hidden2)\n",
    "        outputs = tf.layers.dense(hidden2,units=784,activation=tf.nn.tanh)\n",
    "        return outputs"
   ]
  },
  {
   "cell_type": "code",
   "execution_count": 64,
   "metadata": {},
   "outputs": [],
   "source": [
    "def discriminator(X, reuse=None):\n",
    "    with tf.variable_scope('dis',reuse=reuse):\n",
    "        alpha = 0.01\n",
    "        hidden1 = tf.layers.dense(inputs=X,units=128)\n",
    "        hidden1 = tf.maximum(hidden1*alpha,hidden1)\n",
    "        hidden2 = tf.layers.dense(hidden1,units=128)\n",
    "        hidden2 = tf.maximum(hidden2*alpha,hidden2)\n",
    "        logits = tf.layers.dense(hidden2,units=1)\n",
    "        outputs = tf.sigmoid(logits)\n",
    "        return outputs, logits"
   ]
  },
  {
   "cell_type": "code",
   "execution_count": 65,
   "metadata": {},
   "outputs": [],
   "source": [
    "def loss_func(logits_in,real_images=False):\n",
    "    if real_images:\n",
    "        labels = tf.ones_like(logits_in)*0.9\n",
    "    else:\n",
    "        labels = tf.zeros_like(logits_in)\n",
    "    return tf.reduce_mean(tf.nn.sigmoid_cross_entropy_with_logits(logits=logits_in,labels=labels))"
   ]
  },
  {
   "cell_type": "markdown",
   "metadata": {},
   "source": [
    "## Generate the necessary tf.placeholders"
   ]
  },
  {
   "cell_type": "code",
   "execution_count": 66,
   "metadata": {},
   "outputs": [],
   "source": [
    "real_images = tf.placeholder(tf.float32,shape=[None,784])\n",
    "z = tf.placeholder(tf.float32,shape=[None,noise_dimension])"
   ]
  },
  {
   "cell_type": "markdown",
   "metadata": {},
   "source": [
    "## Generate the Graph-Objects for the network-ouputs"
   ]
  },
  {
   "cell_type": "code",
   "execution_count": 67,
   "metadata": {},
   "outputs": [],
   "source": [
    "G = generator(z)\n",
    "D_output_real, D_logits_real = discriminator(real_images)\n",
    "D_output_fake, D_logits_fake = discriminator(G,reuse=True)"
   ]
  },
  {
   "cell_type": "markdown",
   "metadata": {},
   "source": [
    "## Calculate the network losses"
   ]
  },
  {
   "cell_type": "code",
   "execution_count": 68,
   "metadata": {},
   "outputs": [],
   "source": [
    "D_real_loss = loss_func(D_logits_real,real_images=True)\n",
    "D_fake_loss = loss_func(D_logits_fake,real_images=False)\n",
    "D_loss = D_real_loss + D_fake_loss\n",
    "G_loss = loss_func(D_logits_fake,real_images=True) #Here our goal is to \"fool\" the discriminator with oposite labels"
   ]
  },
  {
   "cell_type": "markdown",
   "metadata": {},
   "source": [
    "## Generate the Optimizers"
   ]
  },
  {
   "cell_type": "code",
   "execution_count": 69,
   "metadata": {},
   "outputs": [],
   "source": [
    "#Use listcomprehensions for quick access to the tunable variables\n",
    "tvars = tf.trainable_variables()\n",
    "d_vars = [var for var in tvars if 'dis' in var.name]\n",
    "g_vars = [var for var in tvars if 'gen' in var.name]\n",
    "D_trainer = tf.train.AdamOptimizer(learning_rate).minimize(D_loss,var_list=d_vars)\n",
    "G_trainer = tf.train.AdamOptimizer(learning_rate).minimize(G_loss,var_list=g_vars)"
   ]
  },
  {
   "cell_type": "markdown",
   "metadata": {},
   "source": [
    "## Start the training-session"
   ]
  },
  {
   "cell_type": "code",
   "execution_count": 80,
   "metadata": {},
   "outputs": [
    {
     "ename": "FailedPreconditionError",
     "evalue": "Attempting to use uninitialized value gen/dense/kernel\n\t [[Node: gen/dense/kernel/read = Identity[T=DT_FLOAT, _class=[\"loc:@gen/dense/kernel\"], _device=\"/job:localhost/replica:0/task:0/cpu:0\"](gen/dense/kernel)]]\n\nCaused by op 'gen/dense/kernel/read', defined at:\n  File \"C:\\Users\\MacenkaJ\\Desktop\\_Aufgeraeumt\\PY_Test\\WinPython-64bit-3.5.4.1Qt5\\python-3.5.4.amd64\\lib\\runpy.py\", line 193, in _run_module_as_main\n    \"__main__\", mod_spec)\n  File \"C:\\Users\\MacenkaJ\\Desktop\\_Aufgeraeumt\\PY_Test\\WinPython-64bit-3.5.4.1Qt5\\python-3.5.4.amd64\\lib\\runpy.py\", line 85, in _run_code\n    exec(code, run_globals)\n  File \"C:\\Users\\MacenkaJ\\Desktop\\_Aufgeraeumt\\PY_Test\\WinPython-64bit-3.5.4.1Qt5\\python-3.5.4.amd64\\lib\\site-packages\\ipykernel_launcher.py\", line 16, in <module>\n    app.launch_new_instance()\n  File \"C:\\Users\\MacenkaJ\\Desktop\\_Aufgeraeumt\\PY_Test\\WinPython-64bit-3.5.4.1Qt5\\python-3.5.4.amd64\\lib\\site-packages\\traitlets\\config\\application.py\", line 658, in launch_instance\n    app.start()\n  File \"C:\\Users\\MacenkaJ\\Desktop\\_Aufgeraeumt\\PY_Test\\WinPython-64bit-3.5.4.1Qt5\\python-3.5.4.amd64\\lib\\site-packages\\ipykernel\\kernelapp.py\", line 477, in start\n    ioloop.IOLoop.instance().start()\n  File \"C:\\Users\\MacenkaJ\\Desktop\\_Aufgeraeumt\\PY_Test\\WinPython-64bit-3.5.4.1Qt5\\python-3.5.4.amd64\\lib\\site-packages\\zmq\\eventloop\\ioloop.py\", line 177, in start\n    super(ZMQIOLoop, self).start()\n  File \"C:\\Users\\MacenkaJ\\Desktop\\_Aufgeraeumt\\PY_Test\\WinPython-64bit-3.5.4.1Qt5\\python-3.5.4.amd64\\lib\\site-packages\\tornado\\ioloop.py\", line 888, in start\n    handler_func(fd_obj, events)\n  File \"C:\\Users\\MacenkaJ\\Desktop\\_Aufgeraeumt\\PY_Test\\WinPython-64bit-3.5.4.1Qt5\\python-3.5.4.amd64\\lib\\site-packages\\tornado\\stack_context.py\", line 277, in null_wrapper\n    return fn(*args, **kwargs)\n  File \"C:\\Users\\MacenkaJ\\Desktop\\_Aufgeraeumt\\PY_Test\\WinPython-64bit-3.5.4.1Qt5\\python-3.5.4.amd64\\lib\\site-packages\\zmq\\eventloop\\zmqstream.py\", line 440, in _handle_events\n    self._handle_recv()\n  File \"C:\\Users\\MacenkaJ\\Desktop\\_Aufgeraeumt\\PY_Test\\WinPython-64bit-3.5.4.1Qt5\\python-3.5.4.amd64\\lib\\site-packages\\zmq\\eventloop\\zmqstream.py\", line 472, in _handle_recv\n    self._run_callback(callback, msg)\n  File \"C:\\Users\\MacenkaJ\\Desktop\\_Aufgeraeumt\\PY_Test\\WinPython-64bit-3.5.4.1Qt5\\python-3.5.4.amd64\\lib\\site-packages\\zmq\\eventloop\\zmqstream.py\", line 414, in _run_callback\n    callback(*args, **kwargs)\n  File \"C:\\Users\\MacenkaJ\\Desktop\\_Aufgeraeumt\\PY_Test\\WinPython-64bit-3.5.4.1Qt5\\python-3.5.4.amd64\\lib\\site-packages\\tornado\\stack_context.py\", line 277, in null_wrapper\n    return fn(*args, **kwargs)\n  File \"C:\\Users\\MacenkaJ\\Desktop\\_Aufgeraeumt\\PY_Test\\WinPython-64bit-3.5.4.1Qt5\\python-3.5.4.amd64\\lib\\site-packages\\ipykernel\\kernelbase.py\", line 283, in dispatcher\n    return self.dispatch_shell(stream, msg)\n  File \"C:\\Users\\MacenkaJ\\Desktop\\_Aufgeraeumt\\PY_Test\\WinPython-64bit-3.5.4.1Qt5\\python-3.5.4.amd64\\lib\\site-packages\\ipykernel\\kernelbase.py\", line 235, in dispatch_shell\n    handler(stream, idents, msg)\n  File \"C:\\Users\\MacenkaJ\\Desktop\\_Aufgeraeumt\\PY_Test\\WinPython-64bit-3.5.4.1Qt5\\python-3.5.4.amd64\\lib\\site-packages\\ipykernel\\kernelbase.py\", line 399, in execute_request\n    user_expressions, allow_stdin)\n  File \"C:\\Users\\MacenkaJ\\Desktop\\_Aufgeraeumt\\PY_Test\\WinPython-64bit-3.5.4.1Qt5\\python-3.5.4.amd64\\lib\\site-packages\\ipykernel\\ipkernel.py\", line 196, in do_execute\n    res = shell.run_cell(code, store_history=store_history, silent=silent)\n  File \"C:\\Users\\MacenkaJ\\Desktop\\_Aufgeraeumt\\PY_Test\\WinPython-64bit-3.5.4.1Qt5\\python-3.5.4.amd64\\lib\\site-packages\\ipykernel\\zmqshell.py\", line 533, in run_cell\n    return super(ZMQInteractiveShell, self).run_cell(*args, **kwargs)\n  File \"C:\\Users\\MacenkaJ\\Desktop\\_Aufgeraeumt\\PY_Test\\WinPython-64bit-3.5.4.1Qt5\\python-3.5.4.amd64\\lib\\site-packages\\IPython\\core\\interactiveshell.py\", line 2728, in run_cell\n    interactivity=interactivity, compiler=compiler, result=result)\n  File \"C:\\Users\\MacenkaJ\\Desktop\\_Aufgeraeumt\\PY_Test\\WinPython-64bit-3.5.4.1Qt5\\python-3.5.4.amd64\\lib\\site-packages\\IPython\\core\\interactiveshell.py\", line 2850, in run_ast_nodes\n    if self.run_code(code, result):\n  File \"C:\\Users\\MacenkaJ\\Desktop\\_Aufgeraeumt\\PY_Test\\WinPython-64bit-3.5.4.1Qt5\\python-3.5.4.amd64\\lib\\site-packages\\IPython\\core\\interactiveshell.py\", line 2910, in run_code\n    exec(code_obj, self.user_global_ns, self.user_ns)\n  File \"<ipython-input-67-0c582680bd71>\", line 1, in <module>\n    G = generator(z)\n  File \"<ipython-input-63-10a6ccd5052f>\", line 4, in generator\n    hidden1 = tf.layers.dense(inputs=z,units=128)\n  File \"C:\\Users\\MacenkaJ\\Desktop\\_Aufgeraeumt\\PY_Test\\WinPython-64bit-3.5.4.1Qt5\\python-3.5.4.amd64\\lib\\site-packages\\tensorflow\\python\\layers\\core.py\", line 215, in dense\n    return layer.apply(inputs)\n  File \"C:\\Users\\MacenkaJ\\Desktop\\_Aufgeraeumt\\PY_Test\\WinPython-64bit-3.5.4.1Qt5\\python-3.5.4.amd64\\lib\\site-packages\\tensorflow\\python\\layers\\base.py\", line 503, in apply\n    return self.__call__(inputs, *args, **kwargs)\n  File \"C:\\Users\\MacenkaJ\\Desktop\\_Aufgeraeumt\\PY_Test\\WinPython-64bit-3.5.4.1Qt5\\python-3.5.4.amd64\\lib\\site-packages\\tensorflow\\python\\layers\\base.py\", line 443, in __call__\n    self.build(input_shapes[0])\n  File \"C:\\Users\\MacenkaJ\\Desktop\\_Aufgeraeumt\\PY_Test\\WinPython-64bit-3.5.4.1Qt5\\python-3.5.4.amd64\\lib\\site-packages\\tensorflow\\python\\layers\\core.py\", line 118, in build\n    trainable=True)\n  File \"C:\\Users\\MacenkaJ\\Desktop\\_Aufgeraeumt\\PY_Test\\WinPython-64bit-3.5.4.1Qt5\\python-3.5.4.amd64\\lib\\site-packages\\tensorflow\\python\\layers\\base.py\", line 383, in add_variable\n    trainable=trainable and self.trainable)\n  File \"C:\\Users\\MacenkaJ\\Desktop\\_Aufgeraeumt\\PY_Test\\WinPython-64bit-3.5.4.1Qt5\\python-3.5.4.amd64\\lib\\site-packages\\tensorflow\\python\\ops\\variable_scope.py\", line 1065, in get_variable\n    use_resource=use_resource, custom_getter=custom_getter)\n  File \"C:\\Users\\MacenkaJ\\Desktop\\_Aufgeraeumt\\PY_Test\\WinPython-64bit-3.5.4.1Qt5\\python-3.5.4.amd64\\lib\\site-packages\\tensorflow\\python\\ops\\variable_scope.py\", line 962, in get_variable\n    use_resource=use_resource, custom_getter=custom_getter)\n  File \"C:\\Users\\MacenkaJ\\Desktop\\_Aufgeraeumt\\PY_Test\\WinPython-64bit-3.5.4.1Qt5\\python-3.5.4.amd64\\lib\\site-packages\\tensorflow\\python\\ops\\variable_scope.py\", line 367, in get_variable\n    validate_shape=validate_shape, use_resource=use_resource)\n  File \"C:\\Users\\MacenkaJ\\Desktop\\_Aufgeraeumt\\PY_Test\\WinPython-64bit-3.5.4.1Qt5\\python-3.5.4.amd64\\lib\\site-packages\\tensorflow\\python\\ops\\variable_scope.py\", line 352, in _true_getter\n    use_resource=use_resource)\n  File \"C:\\Users\\MacenkaJ\\Desktop\\_Aufgeraeumt\\PY_Test\\WinPython-64bit-3.5.4.1Qt5\\python-3.5.4.amd64\\lib\\site-packages\\tensorflow\\python\\ops\\variable_scope.py\", line 725, in _get_single_variable\n    validate_shape=validate_shape)\n  File \"C:\\Users\\MacenkaJ\\Desktop\\_Aufgeraeumt\\PY_Test\\WinPython-64bit-3.5.4.1Qt5\\python-3.5.4.amd64\\lib\\site-packages\\tensorflow\\python\\ops\\variables.py\", line 199, in __init__\n    expected_shape=expected_shape)\n  File \"C:\\Users\\MacenkaJ\\Desktop\\_Aufgeraeumt\\PY_Test\\WinPython-64bit-3.5.4.1Qt5\\python-3.5.4.amd64\\lib\\site-packages\\tensorflow\\python\\ops\\variables.py\", line 330, in _init_from_args\n    self._snapshot = array_ops.identity(self._variable, name=\"read\")\n  File \"C:\\Users\\MacenkaJ\\Desktop\\_Aufgeraeumt\\PY_Test\\WinPython-64bit-3.5.4.1Qt5\\python-3.5.4.amd64\\lib\\site-packages\\tensorflow\\python\\ops\\gen_array_ops.py\", line 1400, in identity\n    result = _op_def_lib.apply_op(\"Identity\", input=input, name=name)\n  File \"C:\\Users\\MacenkaJ\\Desktop\\_Aufgeraeumt\\PY_Test\\WinPython-64bit-3.5.4.1Qt5\\python-3.5.4.amd64\\lib\\site-packages\\tensorflow\\python\\framework\\op_def_library.py\", line 767, in apply_op\n    op_def=op_def)\n  File \"C:\\Users\\MacenkaJ\\Desktop\\_Aufgeraeumt\\PY_Test\\WinPython-64bit-3.5.4.1Qt5\\python-3.5.4.amd64\\lib\\site-packages\\tensorflow\\python\\framework\\ops.py\", line 2630, in create_op\n    original_op=self._default_original_op, op_def=op_def)\n  File \"C:\\Users\\MacenkaJ\\Desktop\\_Aufgeraeumt\\PY_Test\\WinPython-64bit-3.5.4.1Qt5\\python-3.5.4.amd64\\lib\\site-packages\\tensorflow\\python\\framework\\ops.py\", line 1204, in __init__\n    self._traceback = self._graph._extract_stack()  # pylint: disable=protected-access\n\nFailedPreconditionError (see above for traceback): Attempting to use uninitialized value gen/dense/kernel\n\t [[Node: gen/dense/kernel/read = Identity[T=DT_FLOAT, _class=[\"loc:@gen/dense/kernel\"], _device=\"/job:localhost/replica:0/task:0/cpu:0\"](gen/dense/kernel)]]\n",
     "output_type": "error",
     "traceback": [
      "\u001b[1;31m---------------------------------------------------------------------------\u001b[0m",
      "\u001b[1;31mFailedPreconditionError\u001b[0m                   Traceback (most recent call last)",
      "\u001b[1;32mC:\\Users\\MacenkaJ\\Desktop\\_Aufgeraeumt\\PY_Test\\WinPython-64bit-3.5.4.1Qt5\\python-3.5.4.amd64\\lib\\site-packages\\tensorflow\\python\\client\\session.py\u001b[0m in \u001b[0;36m_do_call\u001b[1;34m(self, fn, *args)\u001b[0m\n\u001b[0;32m   1326\u001b[0m     \u001b[1;32mtry\u001b[0m\u001b[1;33m:\u001b[0m\u001b[1;33m\u001b[0m\u001b[0m\n\u001b[1;32m-> 1327\u001b[1;33m       \u001b[1;32mreturn\u001b[0m \u001b[0mfn\u001b[0m\u001b[1;33m(\u001b[0m\u001b[1;33m*\u001b[0m\u001b[0margs\u001b[0m\u001b[1;33m)\u001b[0m\u001b[1;33m\u001b[0m\u001b[0m\n\u001b[0m\u001b[0;32m   1328\u001b[0m     \u001b[1;32mexcept\u001b[0m \u001b[0merrors\u001b[0m\u001b[1;33m.\u001b[0m\u001b[0mOpError\u001b[0m \u001b[1;32mas\u001b[0m \u001b[0me\u001b[0m\u001b[1;33m:\u001b[0m\u001b[1;33m\u001b[0m\u001b[0m\n",
      "\u001b[1;32mC:\\Users\\MacenkaJ\\Desktop\\_Aufgeraeumt\\PY_Test\\WinPython-64bit-3.5.4.1Qt5\\python-3.5.4.amd64\\lib\\site-packages\\tensorflow\\python\\client\\session.py\u001b[0m in \u001b[0;36m_run_fn\u001b[1;34m(session, feed_dict, fetch_list, target_list, options, run_metadata)\u001b[0m\n\u001b[0;32m   1305\u001b[0m                                    \u001b[0mfeed_dict\u001b[0m\u001b[1;33m,\u001b[0m \u001b[0mfetch_list\u001b[0m\u001b[1;33m,\u001b[0m \u001b[0mtarget_list\u001b[0m\u001b[1;33m,\u001b[0m\u001b[1;33m\u001b[0m\u001b[0m\n\u001b[1;32m-> 1306\u001b[1;33m                                    status, run_metadata)\n\u001b[0m\u001b[0;32m   1307\u001b[0m \u001b[1;33m\u001b[0m\u001b[0m\n",
      "\u001b[1;32mC:\\Users\\MacenkaJ\\Desktop\\_Aufgeraeumt\\PY_Test\\WinPython-64bit-3.5.4.1Qt5\\python-3.5.4.amd64\\lib\\contextlib.py\u001b[0m in \u001b[0;36m__exit__\u001b[1;34m(self, type, value, traceback)\u001b[0m\n\u001b[0;32m     65\u001b[0m             \u001b[1;32mtry\u001b[0m\u001b[1;33m:\u001b[0m\u001b[1;33m\u001b[0m\u001b[0m\n\u001b[1;32m---> 66\u001b[1;33m                 \u001b[0mnext\u001b[0m\u001b[1;33m(\u001b[0m\u001b[0mself\u001b[0m\u001b[1;33m.\u001b[0m\u001b[0mgen\u001b[0m\u001b[1;33m)\u001b[0m\u001b[1;33m\u001b[0m\u001b[0m\n\u001b[0m\u001b[0;32m     67\u001b[0m             \u001b[1;32mexcept\u001b[0m \u001b[0mStopIteration\u001b[0m\u001b[1;33m:\u001b[0m\u001b[1;33m\u001b[0m\u001b[0m\n",
      "\u001b[1;32mC:\\Users\\MacenkaJ\\Desktop\\_Aufgeraeumt\\PY_Test\\WinPython-64bit-3.5.4.1Qt5\\python-3.5.4.amd64\\lib\\site-packages\\tensorflow\\python\\framework\\errors_impl.py\u001b[0m in \u001b[0;36mraise_exception_on_not_ok_status\u001b[1;34m()\u001b[0m\n\u001b[0;32m    465\u001b[0m           \u001b[0mcompat\u001b[0m\u001b[1;33m.\u001b[0m\u001b[0mas_text\u001b[0m\u001b[1;33m(\u001b[0m\u001b[0mpywrap_tensorflow\u001b[0m\u001b[1;33m.\u001b[0m\u001b[0mTF_Message\u001b[0m\u001b[1;33m(\u001b[0m\u001b[0mstatus\u001b[0m\u001b[1;33m)\u001b[0m\u001b[1;33m)\u001b[0m\u001b[1;33m,\u001b[0m\u001b[1;33m\u001b[0m\u001b[0m\n\u001b[1;32m--> 466\u001b[1;33m           pywrap_tensorflow.TF_GetCode(status))\n\u001b[0m\u001b[0;32m    467\u001b[0m   \u001b[1;32mfinally\u001b[0m\u001b[1;33m:\u001b[0m\u001b[1;33m\u001b[0m\u001b[0m\n",
      "\u001b[1;31mFailedPreconditionError\u001b[0m: Attempting to use uninitialized value gen/dense/kernel\n\t [[Node: gen/dense/kernel/read = Identity[T=DT_FLOAT, _class=[\"loc:@gen/dense/kernel\"], _device=\"/job:localhost/replica:0/task:0/cpu:0\"](gen/dense/kernel)]]",
      "\nDuring handling of the above exception, another exception occurred:\n",
      "\u001b[1;31mFailedPreconditionError\u001b[0m                   Traceback (most recent call last)",
      "\u001b[1;32m<ipython-input-80-d44ae01fcc99>\u001b[0m in \u001b[0;36m<module>\u001b[1;34m()\u001b[0m\n\u001b[0;32m     12\u001b[0m                 \u001b[0mbatch_images\u001b[0m \u001b[1;33m=\u001b[0m \u001b[0mbatch_images\u001b[0m \u001b[1;33m*\u001b[0m \u001b[1;36m2\u001b[0m \u001b[1;33m-\u001b[0m \u001b[1;36m1\u001b[0m \u001b[1;31m#Transformation for use with tanh at the output of the generator\u001b[0m\u001b[1;33m\u001b[0m\u001b[0m\n\u001b[0;32m     13\u001b[0m                 \u001b[0mbatch_z\u001b[0m \u001b[1;33m=\u001b[0m \u001b[0mnp\u001b[0m\u001b[1;33m.\u001b[0m\u001b[0mrandom\u001b[0m\u001b[1;33m.\u001b[0m\u001b[0muniform\u001b[0m\u001b[1;33m(\u001b[0m\u001b[1;33m-\u001b[0m\u001b[1;36m1\u001b[0m\u001b[1;33m,\u001b[0m\u001b[1;36m1\u001b[0m\u001b[1;33m,\u001b[0m\u001b[0msize\u001b[0m\u001b[1;33m=\u001b[0m\u001b[1;33m(\u001b[0m\u001b[0mbatch_size\u001b[0m\u001b[1;33m,\u001b[0m\u001b[0mnoise_dimension\u001b[0m\u001b[1;33m)\u001b[0m\u001b[1;33m)\u001b[0m\u001b[1;33m\u001b[0m\u001b[0m\n\u001b[1;32m---> 14\u001b[1;33m                 \u001b[0msess\u001b[0m\u001b[1;33m.\u001b[0m\u001b[0mrun\u001b[0m\u001b[1;33m(\u001b[0m\u001b[1;33m[\u001b[0m\u001b[0mD_trainer\u001b[0m\u001b[1;33m,\u001b[0m\u001b[0mG_trainer\u001b[0m\u001b[1;33m]\u001b[0m\u001b[1;33m,\u001b[0m\u001b[0mfeed_dict\u001b[0m\u001b[1;33m=\u001b[0m\u001b[1;33m{\u001b[0m\u001b[0mreal_images\u001b[0m\u001b[1;33m:\u001b[0m\u001b[0mbatch_images\u001b[0m\u001b[1;33m,\u001b[0m\u001b[0mz\u001b[0m\u001b[1;33m:\u001b[0m\u001b[0mbatch_z\u001b[0m\u001b[1;33m}\u001b[0m\u001b[1;33m)\u001b[0m\u001b[1;33m\u001b[0m\u001b[0m\n\u001b[0m\u001b[0;32m     15\u001b[0m \u001b[1;33m\u001b[0m\u001b[0m\n\u001b[0;32m     16\u001b[0m             \u001b[0mprint\u001b[0m\u001b[1;33m(\u001b[0m\u001b[1;34m'Progess epoch {}/{}'\u001b[0m\u001b[1;33m.\u001b[0m\u001b[0mformat\u001b[0m\u001b[1;33m(\u001b[0m\u001b[0mepoch\u001b[0m\u001b[1;33m,\u001b[0m\u001b[0mtraining_epochs\u001b[0m\u001b[1;33m)\u001b[0m\u001b[1;33m)\u001b[0m\u001b[1;33m\u001b[0m\u001b[0m\n",
      "\u001b[1;32mC:\\Users\\MacenkaJ\\Desktop\\_Aufgeraeumt\\PY_Test\\WinPython-64bit-3.5.4.1Qt5\\python-3.5.4.amd64\\lib\\site-packages\\tensorflow\\python\\client\\session.py\u001b[0m in \u001b[0;36mrun\u001b[1;34m(self, fetches, feed_dict, options, run_metadata)\u001b[0m\n\u001b[0;32m    893\u001b[0m     \u001b[1;32mtry\u001b[0m\u001b[1;33m:\u001b[0m\u001b[1;33m\u001b[0m\u001b[0m\n\u001b[0;32m    894\u001b[0m       result = self._run(None, fetches, feed_dict, options_ptr,\n\u001b[1;32m--> 895\u001b[1;33m                          run_metadata_ptr)\n\u001b[0m\u001b[0;32m    896\u001b[0m       \u001b[1;32mif\u001b[0m \u001b[0mrun_metadata\u001b[0m\u001b[1;33m:\u001b[0m\u001b[1;33m\u001b[0m\u001b[0m\n\u001b[0;32m    897\u001b[0m         \u001b[0mproto_data\u001b[0m \u001b[1;33m=\u001b[0m \u001b[0mtf_session\u001b[0m\u001b[1;33m.\u001b[0m\u001b[0mTF_GetBuffer\u001b[0m\u001b[1;33m(\u001b[0m\u001b[0mrun_metadata_ptr\u001b[0m\u001b[1;33m)\u001b[0m\u001b[1;33m\u001b[0m\u001b[0m\n",
      "\u001b[1;32mC:\\Users\\MacenkaJ\\Desktop\\_Aufgeraeumt\\PY_Test\\WinPython-64bit-3.5.4.1Qt5\\python-3.5.4.amd64\\lib\\site-packages\\tensorflow\\python\\client\\session.py\u001b[0m in \u001b[0;36m_run\u001b[1;34m(self, handle, fetches, feed_dict, options, run_metadata)\u001b[0m\n\u001b[0;32m   1122\u001b[0m     \u001b[1;32mif\u001b[0m \u001b[0mfinal_fetches\u001b[0m \u001b[1;32mor\u001b[0m \u001b[0mfinal_targets\u001b[0m \u001b[1;32mor\u001b[0m \u001b[1;33m(\u001b[0m\u001b[0mhandle\u001b[0m \u001b[1;32mand\u001b[0m \u001b[0mfeed_dict_tensor\u001b[0m\u001b[1;33m)\u001b[0m\u001b[1;33m:\u001b[0m\u001b[1;33m\u001b[0m\u001b[0m\n\u001b[0;32m   1123\u001b[0m       results = self._do_run(handle, final_targets, final_fetches,\n\u001b[1;32m-> 1124\u001b[1;33m                              feed_dict_tensor, options, run_metadata)\n\u001b[0m\u001b[0;32m   1125\u001b[0m     \u001b[1;32melse\u001b[0m\u001b[1;33m:\u001b[0m\u001b[1;33m\u001b[0m\u001b[0m\n\u001b[0;32m   1126\u001b[0m       \u001b[0mresults\u001b[0m \u001b[1;33m=\u001b[0m \u001b[1;33m[\u001b[0m\u001b[1;33m]\u001b[0m\u001b[1;33m\u001b[0m\u001b[0m\n",
      "\u001b[1;32mC:\\Users\\MacenkaJ\\Desktop\\_Aufgeraeumt\\PY_Test\\WinPython-64bit-3.5.4.1Qt5\\python-3.5.4.amd64\\lib\\site-packages\\tensorflow\\python\\client\\session.py\u001b[0m in \u001b[0;36m_do_run\u001b[1;34m(self, handle, target_list, fetch_list, feed_dict, options, run_metadata)\u001b[0m\n\u001b[0;32m   1319\u001b[0m     \u001b[1;32mif\u001b[0m \u001b[0mhandle\u001b[0m \u001b[1;32mis\u001b[0m \u001b[1;32mNone\u001b[0m\u001b[1;33m:\u001b[0m\u001b[1;33m\u001b[0m\u001b[0m\n\u001b[0;32m   1320\u001b[0m       return self._do_call(_run_fn, self._session, feeds, fetches, targets,\n\u001b[1;32m-> 1321\u001b[1;33m                            options, run_metadata)\n\u001b[0m\u001b[0;32m   1322\u001b[0m     \u001b[1;32melse\u001b[0m\u001b[1;33m:\u001b[0m\u001b[1;33m\u001b[0m\u001b[0m\n\u001b[0;32m   1323\u001b[0m       \u001b[1;32mreturn\u001b[0m \u001b[0mself\u001b[0m\u001b[1;33m.\u001b[0m\u001b[0m_do_call\u001b[0m\u001b[1;33m(\u001b[0m\u001b[0m_prun_fn\u001b[0m\u001b[1;33m,\u001b[0m \u001b[0mself\u001b[0m\u001b[1;33m.\u001b[0m\u001b[0m_session\u001b[0m\u001b[1;33m,\u001b[0m \u001b[0mhandle\u001b[0m\u001b[1;33m,\u001b[0m \u001b[0mfeeds\u001b[0m\u001b[1;33m,\u001b[0m \u001b[0mfetches\u001b[0m\u001b[1;33m)\u001b[0m\u001b[1;33m\u001b[0m\u001b[0m\n",
      "\u001b[1;32mC:\\Users\\MacenkaJ\\Desktop\\_Aufgeraeumt\\PY_Test\\WinPython-64bit-3.5.4.1Qt5\\python-3.5.4.amd64\\lib\\site-packages\\tensorflow\\python\\client\\session.py\u001b[0m in \u001b[0;36m_do_call\u001b[1;34m(self, fn, *args)\u001b[0m\n\u001b[0;32m   1338\u001b[0m         \u001b[1;32mexcept\u001b[0m \u001b[0mKeyError\u001b[0m\u001b[1;33m:\u001b[0m\u001b[1;33m\u001b[0m\u001b[0m\n\u001b[0;32m   1339\u001b[0m           \u001b[1;32mpass\u001b[0m\u001b[1;33m\u001b[0m\u001b[0m\n\u001b[1;32m-> 1340\u001b[1;33m       \u001b[1;32mraise\u001b[0m \u001b[0mtype\u001b[0m\u001b[1;33m(\u001b[0m\u001b[0me\u001b[0m\u001b[1;33m)\u001b[0m\u001b[1;33m(\u001b[0m\u001b[0mnode_def\u001b[0m\u001b[1;33m,\u001b[0m \u001b[0mop\u001b[0m\u001b[1;33m,\u001b[0m \u001b[0mmessage\u001b[0m\u001b[1;33m)\u001b[0m\u001b[1;33m\u001b[0m\u001b[0m\n\u001b[0m\u001b[0;32m   1341\u001b[0m \u001b[1;33m\u001b[0m\u001b[0m\n\u001b[0;32m   1342\u001b[0m   \u001b[1;32mdef\u001b[0m \u001b[0m_extend_graph\u001b[0m\u001b[1;33m(\u001b[0m\u001b[0mself\u001b[0m\u001b[1;33m)\u001b[0m\u001b[1;33m:\u001b[0m\u001b[1;33m\u001b[0m\u001b[0m\n",
      "\u001b[1;31mFailedPreconditionError\u001b[0m: Attempting to use uninitialized value gen/dense/kernel\n\t [[Node: gen/dense/kernel/read = Identity[T=DT_FLOAT, _class=[\"loc:@gen/dense/kernel\"], _device=\"/job:localhost/replica:0/task:0/cpu:0\"](gen/dense/kernel)]]\n\nCaused by op 'gen/dense/kernel/read', defined at:\n  File \"C:\\Users\\MacenkaJ\\Desktop\\_Aufgeraeumt\\PY_Test\\WinPython-64bit-3.5.4.1Qt5\\python-3.5.4.amd64\\lib\\runpy.py\", line 193, in _run_module_as_main\n    \"__main__\", mod_spec)\n  File \"C:\\Users\\MacenkaJ\\Desktop\\_Aufgeraeumt\\PY_Test\\WinPython-64bit-3.5.4.1Qt5\\python-3.5.4.amd64\\lib\\runpy.py\", line 85, in _run_code\n    exec(code, run_globals)\n  File \"C:\\Users\\MacenkaJ\\Desktop\\_Aufgeraeumt\\PY_Test\\WinPython-64bit-3.5.4.1Qt5\\python-3.5.4.amd64\\lib\\site-packages\\ipykernel_launcher.py\", line 16, in <module>\n    app.launch_new_instance()\n  File \"C:\\Users\\MacenkaJ\\Desktop\\_Aufgeraeumt\\PY_Test\\WinPython-64bit-3.5.4.1Qt5\\python-3.5.4.amd64\\lib\\site-packages\\traitlets\\config\\application.py\", line 658, in launch_instance\n    app.start()\n  File \"C:\\Users\\MacenkaJ\\Desktop\\_Aufgeraeumt\\PY_Test\\WinPython-64bit-3.5.4.1Qt5\\python-3.5.4.amd64\\lib\\site-packages\\ipykernel\\kernelapp.py\", line 477, in start\n    ioloop.IOLoop.instance().start()\n  File \"C:\\Users\\MacenkaJ\\Desktop\\_Aufgeraeumt\\PY_Test\\WinPython-64bit-3.5.4.1Qt5\\python-3.5.4.amd64\\lib\\site-packages\\zmq\\eventloop\\ioloop.py\", line 177, in start\n    super(ZMQIOLoop, self).start()\n  File \"C:\\Users\\MacenkaJ\\Desktop\\_Aufgeraeumt\\PY_Test\\WinPython-64bit-3.5.4.1Qt5\\python-3.5.4.amd64\\lib\\site-packages\\tornado\\ioloop.py\", line 888, in start\n    handler_func(fd_obj, events)\n  File \"C:\\Users\\MacenkaJ\\Desktop\\_Aufgeraeumt\\PY_Test\\WinPython-64bit-3.5.4.1Qt5\\python-3.5.4.amd64\\lib\\site-packages\\tornado\\stack_context.py\", line 277, in null_wrapper\n    return fn(*args, **kwargs)\n  File \"C:\\Users\\MacenkaJ\\Desktop\\_Aufgeraeumt\\PY_Test\\WinPython-64bit-3.5.4.1Qt5\\python-3.5.4.amd64\\lib\\site-packages\\zmq\\eventloop\\zmqstream.py\", line 440, in _handle_events\n    self._handle_recv()\n  File \"C:\\Users\\MacenkaJ\\Desktop\\_Aufgeraeumt\\PY_Test\\WinPython-64bit-3.5.4.1Qt5\\python-3.5.4.amd64\\lib\\site-packages\\zmq\\eventloop\\zmqstream.py\", line 472, in _handle_recv\n    self._run_callback(callback, msg)\n  File \"C:\\Users\\MacenkaJ\\Desktop\\_Aufgeraeumt\\PY_Test\\WinPython-64bit-3.5.4.1Qt5\\python-3.5.4.amd64\\lib\\site-packages\\zmq\\eventloop\\zmqstream.py\", line 414, in _run_callback\n    callback(*args, **kwargs)\n  File \"C:\\Users\\MacenkaJ\\Desktop\\_Aufgeraeumt\\PY_Test\\WinPython-64bit-3.5.4.1Qt5\\python-3.5.4.amd64\\lib\\site-packages\\tornado\\stack_context.py\", line 277, in null_wrapper\n    return fn(*args, **kwargs)\n  File \"C:\\Users\\MacenkaJ\\Desktop\\_Aufgeraeumt\\PY_Test\\WinPython-64bit-3.5.4.1Qt5\\python-3.5.4.amd64\\lib\\site-packages\\ipykernel\\kernelbase.py\", line 283, in dispatcher\n    return self.dispatch_shell(stream, msg)\n  File \"C:\\Users\\MacenkaJ\\Desktop\\_Aufgeraeumt\\PY_Test\\WinPython-64bit-3.5.4.1Qt5\\python-3.5.4.amd64\\lib\\site-packages\\ipykernel\\kernelbase.py\", line 235, in dispatch_shell\n    handler(stream, idents, msg)\n  File \"C:\\Users\\MacenkaJ\\Desktop\\_Aufgeraeumt\\PY_Test\\WinPython-64bit-3.5.4.1Qt5\\python-3.5.4.amd64\\lib\\site-packages\\ipykernel\\kernelbase.py\", line 399, in execute_request\n    user_expressions, allow_stdin)\n  File \"C:\\Users\\MacenkaJ\\Desktop\\_Aufgeraeumt\\PY_Test\\WinPython-64bit-3.5.4.1Qt5\\python-3.5.4.amd64\\lib\\site-packages\\ipykernel\\ipkernel.py\", line 196, in do_execute\n    res = shell.run_cell(code, store_history=store_history, silent=silent)\n  File \"C:\\Users\\MacenkaJ\\Desktop\\_Aufgeraeumt\\PY_Test\\WinPython-64bit-3.5.4.1Qt5\\python-3.5.4.amd64\\lib\\site-packages\\ipykernel\\zmqshell.py\", line 533, in run_cell\n    return super(ZMQInteractiveShell, self).run_cell(*args, **kwargs)\n  File \"C:\\Users\\MacenkaJ\\Desktop\\_Aufgeraeumt\\PY_Test\\WinPython-64bit-3.5.4.1Qt5\\python-3.5.4.amd64\\lib\\site-packages\\IPython\\core\\interactiveshell.py\", line 2728, in run_cell\n    interactivity=interactivity, compiler=compiler, result=result)\n  File \"C:\\Users\\MacenkaJ\\Desktop\\_Aufgeraeumt\\PY_Test\\WinPython-64bit-3.5.4.1Qt5\\python-3.5.4.amd64\\lib\\site-packages\\IPython\\core\\interactiveshell.py\", line 2850, in run_ast_nodes\n    if self.run_code(code, result):\n  File \"C:\\Users\\MacenkaJ\\Desktop\\_Aufgeraeumt\\PY_Test\\WinPython-64bit-3.5.4.1Qt5\\python-3.5.4.amd64\\lib\\site-packages\\IPython\\core\\interactiveshell.py\", line 2910, in run_code\n    exec(code_obj, self.user_global_ns, self.user_ns)\n  File \"<ipython-input-67-0c582680bd71>\", line 1, in <module>\n    G = generator(z)\n  File \"<ipython-input-63-10a6ccd5052f>\", line 4, in generator\n    hidden1 = tf.layers.dense(inputs=z,units=128)\n  File \"C:\\Users\\MacenkaJ\\Desktop\\_Aufgeraeumt\\PY_Test\\WinPython-64bit-3.5.4.1Qt5\\python-3.5.4.amd64\\lib\\site-packages\\tensorflow\\python\\layers\\core.py\", line 215, in dense\n    return layer.apply(inputs)\n  File \"C:\\Users\\MacenkaJ\\Desktop\\_Aufgeraeumt\\PY_Test\\WinPython-64bit-3.5.4.1Qt5\\python-3.5.4.amd64\\lib\\site-packages\\tensorflow\\python\\layers\\base.py\", line 503, in apply\n    return self.__call__(inputs, *args, **kwargs)\n  File \"C:\\Users\\MacenkaJ\\Desktop\\_Aufgeraeumt\\PY_Test\\WinPython-64bit-3.5.4.1Qt5\\python-3.5.4.amd64\\lib\\site-packages\\tensorflow\\python\\layers\\base.py\", line 443, in __call__\n    self.build(input_shapes[0])\n  File \"C:\\Users\\MacenkaJ\\Desktop\\_Aufgeraeumt\\PY_Test\\WinPython-64bit-3.5.4.1Qt5\\python-3.5.4.amd64\\lib\\site-packages\\tensorflow\\python\\layers\\core.py\", line 118, in build\n    trainable=True)\n  File \"C:\\Users\\MacenkaJ\\Desktop\\_Aufgeraeumt\\PY_Test\\WinPython-64bit-3.5.4.1Qt5\\python-3.5.4.amd64\\lib\\site-packages\\tensorflow\\python\\layers\\base.py\", line 383, in add_variable\n    trainable=trainable and self.trainable)\n  File \"C:\\Users\\MacenkaJ\\Desktop\\_Aufgeraeumt\\PY_Test\\WinPython-64bit-3.5.4.1Qt5\\python-3.5.4.amd64\\lib\\site-packages\\tensorflow\\python\\ops\\variable_scope.py\", line 1065, in get_variable\n    use_resource=use_resource, custom_getter=custom_getter)\n  File \"C:\\Users\\MacenkaJ\\Desktop\\_Aufgeraeumt\\PY_Test\\WinPython-64bit-3.5.4.1Qt5\\python-3.5.4.amd64\\lib\\site-packages\\tensorflow\\python\\ops\\variable_scope.py\", line 962, in get_variable\n    use_resource=use_resource, custom_getter=custom_getter)\n  File \"C:\\Users\\MacenkaJ\\Desktop\\_Aufgeraeumt\\PY_Test\\WinPython-64bit-3.5.4.1Qt5\\python-3.5.4.amd64\\lib\\site-packages\\tensorflow\\python\\ops\\variable_scope.py\", line 367, in get_variable\n    validate_shape=validate_shape, use_resource=use_resource)\n  File \"C:\\Users\\MacenkaJ\\Desktop\\_Aufgeraeumt\\PY_Test\\WinPython-64bit-3.5.4.1Qt5\\python-3.5.4.amd64\\lib\\site-packages\\tensorflow\\python\\ops\\variable_scope.py\", line 352, in _true_getter\n    use_resource=use_resource)\n  File \"C:\\Users\\MacenkaJ\\Desktop\\_Aufgeraeumt\\PY_Test\\WinPython-64bit-3.5.4.1Qt5\\python-3.5.4.amd64\\lib\\site-packages\\tensorflow\\python\\ops\\variable_scope.py\", line 725, in _get_single_variable\n    validate_shape=validate_shape)\n  File \"C:\\Users\\MacenkaJ\\Desktop\\_Aufgeraeumt\\PY_Test\\WinPython-64bit-3.5.4.1Qt5\\python-3.5.4.amd64\\lib\\site-packages\\tensorflow\\python\\ops\\variables.py\", line 199, in __init__\n    expected_shape=expected_shape)\n  File \"C:\\Users\\MacenkaJ\\Desktop\\_Aufgeraeumt\\PY_Test\\WinPython-64bit-3.5.4.1Qt5\\python-3.5.4.amd64\\lib\\site-packages\\tensorflow\\python\\ops\\variables.py\", line 330, in _init_from_args\n    self._snapshot = array_ops.identity(self._variable, name=\"read\")\n  File \"C:\\Users\\MacenkaJ\\Desktop\\_Aufgeraeumt\\PY_Test\\WinPython-64bit-3.5.4.1Qt5\\python-3.5.4.amd64\\lib\\site-packages\\tensorflow\\python\\ops\\gen_array_ops.py\", line 1400, in identity\n    result = _op_def_lib.apply_op(\"Identity\", input=input, name=name)\n  File \"C:\\Users\\MacenkaJ\\Desktop\\_Aufgeraeumt\\PY_Test\\WinPython-64bit-3.5.4.1Qt5\\python-3.5.4.amd64\\lib\\site-packages\\tensorflow\\python\\framework\\op_def_library.py\", line 767, in apply_op\n    op_def=op_def)\n  File \"C:\\Users\\MacenkaJ\\Desktop\\_Aufgeraeumt\\PY_Test\\WinPython-64bit-3.5.4.1Qt5\\python-3.5.4.amd64\\lib\\site-packages\\tensorflow\\python\\framework\\ops.py\", line 2630, in create_op\n    original_op=self._default_original_op, op_def=op_def)\n  File \"C:\\Users\\MacenkaJ\\Desktop\\_Aufgeraeumt\\PY_Test\\WinPython-64bit-3.5.4.1Qt5\\python-3.5.4.amd64\\lib\\site-packages\\tensorflow\\python\\framework\\ops.py\", line 1204, in __init__\n    self._traceback = self._graph._extract_stack()  # pylint: disable=protected-access\n\nFailedPreconditionError (see above for traceback): Attempting to use uninitialized value gen/dense/kernel\n\t [[Node: gen/dense/kernel/read = Identity[T=DT_FLOAT, _class=[\"loc:@gen/dense/kernel\"], _device=\"/job:localhost/replica:0/task:0/cpu:0\"](gen/dense/kernel)]]\n"
     ]
    }
   ],
   "source": [
    "if run_training:\n",
    "    with tf.Session() as sess:\n",
    "        sess.run(init)\n",
    "        \n",
    "        \n",
    "        for epoch in range(training_epochs):      \n",
    "            num_batches = mnist.train.num_examples // batch_size\n",
    "            \n",
    "            for i in range(num_batches):\n",
    "                batch = mnist.train.next_batch(batch_size)\n",
    "                batch_images = batch[0].reshape((batch_size,28*28))\n",
    "                batch_images = batch_images * 2 - 1 #Transformation for use with tanh at the output of the generator\n",
    "                batch_z = np.random.uniform(-1,1,size=(batch_size,noise_dimension))\n",
    "                sess.run([D_trainer,G_trainer],feed_dict={real_images:batch_images,z:batch_z})\n",
    "\n",
    "            print('Progess epoch {}/{}'.format(epoch,training_epochs))\n",
    "            \n",
    "            #sample_z = np.random.uniform(-1,1,size=(1,noise_dimension))\n",
    "            #gen_sample = sess.run(G,feed_dict={z:sample_z})\n",
    "            \n",
    "            #plt.imshow(gen_sample.reshape(28,28))"
   ]
  }
 ],
 "metadata": {
  "kernelspec": {
   "display_name": "Python 3",
   "language": "python",
   "name": "python3"
  },
  "language_info": {
   "codemirror_mode": {
    "name": "ipython",
    "version": 3
   },
   "file_extension": ".py",
   "mimetype": "text/x-python",
   "name": "python",
   "nbconvert_exporter": "python",
   "pygments_lexer": "ipython3",
   "version": "3.5.4"
  }
 },
 "nbformat": 4,
 "nbformat_minor": 2
}
